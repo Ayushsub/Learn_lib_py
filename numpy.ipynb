{
 "cells": [
  {
   "cell_type": "markdown",
   "id": "27955867-9620-438d-91ea-c3a85caf67b8",
   "metadata": {},
   "source": [
    "https://youtu.be/Rbh1rieb3zc?si=XIMTveDC1y-U30HG"
   ]
  },
  {
   "cell_type": "markdown",
   "id": "07684928-77ea-4988-88fc-eefec977cf96",
   "metadata": {},
   "source": [
    "**numpy by code with harry**"
   ]
  },
  {
   "cell_type": "code",
   "execution_count": 70,
   "id": "dec9b39a-6729-4720-9ddc-0c43199ec4db",
   "metadata": {},
   "outputs": [],
   "source": [
    "#always use shift+enter"
   ]
  },
  {
   "cell_type": "markdown",
   "id": "95f558ab-ca12-4028-ae00-1905b21169a9",
   "metadata": {},
   "source": [
    "https://docs.scipy.org/doc/           \n",
    "**useful website**"
   ]
  },
  {
   "cell_type": "code",
   "execution_count": 1,
   "id": "c1485598-6ac5-42fe-b213-dcf2238f9f94",
   "metadata": {},
   "outputs": [],
   "source": [
    "#above we use *** we can use ** for italic"
   ]
  },
  {
   "cell_type": "code",
   "execution_count": 2,
   "id": "39b879ad-f838-4b28-8846-b94b796ca0d3",
   "metadata": {},
   "outputs": [],
   "source": [
    "import numpy as np"
   ]
  },
  {
   "cell_type": "code",
   "execution_count": 3,
   "id": "cf5dad8d-4ee2-4cdc-b19e-0fff9dcef2b6",
   "metadata": {},
   "outputs": [],
   "source": [
    "myarr=np.array([2,3,66,77])"
   ]
  },
  {
   "cell_type": "code",
   "execution_count": 4,
   "id": "4eddad6d-c42a-48d1-8398-d35f903db595",
   "metadata": {},
   "outputs": [
    {
     "data": {
      "text/plain": [
       "array([ 2,  3, 66, 77])"
      ]
     },
     "execution_count": 4,
     "metadata": {},
     "output_type": "execute_result"
    }
   ],
   "source": [
    "myarr"
   ]
  },
  {
   "cell_type": "code",
   "execution_count": 5,
   "id": "ff8a028f-4ee9-4a60-862c-55159802eae7",
   "metadata": {},
   "outputs": [],
   "source": [
    "myarr=np.array([2,3,66,77],np.int8)"
   ]
  },
  {
   "cell_type": "code",
   "execution_count": 6,
   "id": "2ef572d5-5bee-4fe0-ae78-df80043dd068",
   "metadata": {},
   "outputs": [
    {
     "data": {
      "text/plain": [
       "array([ 2,  3, 66, 77], dtype=int8)"
      ]
     },
     "execution_count": 6,
     "metadata": {},
     "output_type": "execute_result"
    }
   ],
   "source": [
    "myarr"
   ]
  },
  {
   "cell_type": "code",
   "execution_count": 78,
   "id": "b509a181-99d4-4909-b8e1-49cbef61251b",
   "metadata": {},
   "outputs": [
    {
     "data": {
      "text/plain": [
       "2"
      ]
     },
     "execution_count": 78,
     "metadata": {},
     "output_type": "execute_result"
    }
   ],
   "source": [
    "myarr[0]"
   ]
  },
  {
   "cell_type": "code",
   "execution_count": 79,
   "id": "0f57f9ce-d597-4517-99f7-dfaf6320c690",
   "metadata": {},
   "outputs": [],
   "source": [
    "myarr=np.array([[2,3,66,77]],np.int8)"
   ]
  },
  {
   "cell_type": "code",
   "execution_count": 80,
   "id": "a21625af-6259-4841-bfc4-d42caa854648",
   "metadata": {},
   "outputs": [],
   "source": [
    "#now it is a 2D array"
   ]
  },
  {
   "cell_type": "code",
   "execution_count": 81,
   "id": "bc55489c-f5c7-4809-8ef3-237e1485a0c1",
   "metadata": {},
   "outputs": [
    {
     "data": {
      "text/plain": [
       "array([ 2,  3, 66, 77], dtype=int8)"
      ]
     },
     "execution_count": 81,
     "metadata": {},
     "output_type": "execute_result"
    }
   ],
   "source": [
    "myarr[0]"
   ]
  },
  {
   "cell_type": "code",
   "execution_count": 82,
   "id": "686d63a8-08e0-4446-afbc-4fedc6390e7f",
   "metadata": {},
   "outputs": [
    {
     "data": {
      "text/plain": [
       "3"
      ]
     },
     "execution_count": 82,
     "metadata": {},
     "output_type": "execute_result"
    }
   ],
   "source": [
    "myarr[0,1]"
   ]
  },
  {
   "cell_type": "code",
   "execution_count": 83,
   "id": "826ce603-3cc2-45fb-8807-cd0e07b09c16",
   "metadata": {},
   "outputs": [
    {
     "data": {
      "text/plain": [
       "(1, 4)"
      ]
     },
     "execution_count": 83,
     "metadata": {},
     "output_type": "execute_result"
    }
   ],
   "source": [
    "myarr.shape"
   ]
  },
  {
   "cell_type": "code",
   "execution_count": 84,
   "id": "2eca635d-34a5-4297-8748-990bf89b9bfb",
   "metadata": {},
   "outputs": [
    {
     "data": {
      "text/plain": [
       "dtype('int8')"
      ]
     },
     "execution_count": 84,
     "metadata": {},
     "output_type": "execute_result"
    }
   ],
   "source": [
    "myarr.dtype"
   ]
  },
  {
   "cell_type": "code",
   "execution_count": 85,
   "id": "6ec47bcc-c5d3-4e20-9e73-760fe4e479b3",
   "metadata": {},
   "outputs": [],
   "source": [
    "myarr[0,1] = 6"
   ]
  },
  {
   "cell_type": "code",
   "execution_count": 86,
   "id": "20326d40-4b25-45eb-963a-9d06f9ab6ea1",
   "metadata": {},
   "outputs": [
    {
     "data": {
      "text/plain": [
       "array([[ 2,  6, 66, 77]], dtype=int8)"
      ]
     },
     "execution_count": 86,
     "metadata": {},
     "output_type": "execute_result"
    }
   ],
   "source": [
    "myarr"
   ]
  },
  {
   "cell_type": "markdown",
   "id": "b39ff030-b57d-4e31-b26b-324c4ff3d4f9",
   "metadata": {},
   "source": [
    "**array creation: conversion from other python structures**"
   ]
  },
  {
   "cell_type": "code",
   "execution_count": 87,
   "id": "aa126dec-9925-4b23-869a-74f84ba24dd3",
   "metadata": {},
   "outputs": [],
   "source": [
    "listarr=np.array([[1,2,3],[4,5,6],[7,8,9]])"
   ]
  },
  {
   "cell_type": "code",
   "execution_count": 88,
   "id": "e8de5032-384a-41ca-a172-423412266ad8",
   "metadata": {},
   "outputs": [
    {
     "data": {
      "text/plain": [
       "array([[1, 2, 3],\n",
       "       [4, 5, 6],\n",
       "       [7, 8, 9]])"
      ]
     },
     "execution_count": 88,
     "metadata": {},
     "output_type": "execute_result"
    }
   ],
   "source": [
    "listarr"
   ]
  },
  {
   "cell_type": "code",
   "execution_count": 89,
   "id": "4d71308f-5959-4bfd-b6e6-225a7350e2b5",
   "metadata": {},
   "outputs": [
    {
     "data": {
      "text/plain": [
       "dtype('int32')"
      ]
     },
     "execution_count": 89,
     "metadata": {},
     "output_type": "execute_result"
    }
   ],
   "source": [
    "listarr.dtype"
   ]
  },
  {
   "cell_type": "code",
   "execution_count": 90,
   "id": "8f541567-45fc-4b4d-b910-803bd346ffb1",
   "metadata": {},
   "outputs": [
    {
     "data": {
      "text/plain": [
       "(3, 3)"
      ]
     },
     "execution_count": 90,
     "metadata": {},
     "output_type": "execute_result"
    }
   ],
   "source": [
    "listarr.shape"
   ]
  },
  {
   "cell_type": "code",
   "execution_count": 91,
   "id": "2bed831b-ca7d-4270-892b-8ae92fdd7098",
   "metadata": {},
   "outputs": [
    {
     "data": {
      "text/plain": [
       "9"
      ]
     },
     "execution_count": 91,
     "metadata": {},
     "output_type": "execute_result"
    }
   ],
   "source": [
    "listarr.size"
   ]
  },
  {
   "cell_type": "code",
   "execution_count": 92,
   "id": "f2b73ddd-7d43-4737-84ce-0e0c20614d26",
   "metadata": {},
   "outputs": [
    {
     "data": {
      "text/plain": [
       "array({33, 22}, dtype=object)"
      ]
     },
     "execution_count": 92,
     "metadata": {},
     "output_type": "execute_result"
    }
   ],
   "source": [
    "np.array({22,33,33})"
   ]
  },
  {
   "cell_type": "code",
   "execution_count": 93,
   "id": "250065fd-f146-42cd-9d15-d82cbc04de29",
   "metadata": {},
   "outputs": [],
   "source": [
    "#try to use dtype as float or int"
   ]
  },
  {
   "cell_type": "code",
   "execution_count": 94,
   "id": "1081b7f0-0e01-436b-a999-8117ff16078e",
   "metadata": {},
   "outputs": [],
   "source": [
    "zeros=np.zeros((2,5))"
   ]
  },
  {
   "cell_type": "code",
   "execution_count": 95,
   "id": "97d9235d-2920-4eaf-b09c-5c0d832df848",
   "metadata": {},
   "outputs": [
    {
     "data": {
      "text/plain": [
       "array([[0., 0., 0., 0., 0.],\n",
       "       [0., 0., 0., 0., 0.]])"
      ]
     },
     "execution_count": 95,
     "metadata": {},
     "output_type": "execute_result"
    }
   ],
   "source": [
    "zeros"
   ]
  },
  {
   "cell_type": "code",
   "execution_count": 96,
   "id": "c6f5dcdb-7c64-425a-82aa-cf092bb2d593",
   "metadata": {},
   "outputs": [
    {
     "data": {
      "text/plain": [
       "dtype('float64')"
      ]
     },
     "execution_count": 96,
     "metadata": {},
     "output_type": "execute_result"
    }
   ],
   "source": [
    "zeros.dtype"
   ]
  },
  {
   "cell_type": "code",
   "execution_count": 97,
   "id": "209635a2-307d-47ef-a50d-e213a5d41115",
   "metadata": {},
   "outputs": [
    {
     "data": {
      "text/plain": [
       "10"
      ]
     },
     "execution_count": 97,
     "metadata": {},
     "output_type": "execute_result"
    }
   ],
   "source": [
    "zeros.size"
   ]
  },
  {
   "cell_type": "code",
   "execution_count": 98,
   "id": "a6487320-384a-4aa0-824d-1426e3ee0b86",
   "metadata": {},
   "outputs": [],
   "source": [
    "rng=np.arange(15)"
   ]
  },
  {
   "cell_type": "code",
   "execution_count": 99,
   "id": "7221af32-ff6f-4acf-bedf-a0676b4d3649",
   "metadata": {},
   "outputs": [
    {
     "data": {
      "text/plain": [
       "array([ 0,  1,  2,  3,  4,  5,  6,  7,  8,  9, 10, 11, 12, 13, 14])"
      ]
     },
     "execution_count": 99,
     "metadata": {},
     "output_type": "execute_result"
    }
   ],
   "source": [
    "rng"
   ]
  },
  {
   "cell_type": "code",
   "execution_count": 103,
   "id": "6c48d4f5-5678-41db-8149-09238ed21fd9",
   "metadata": {},
   "outputs": [],
   "source": [
    "lspace=np.linspace(2,50,10)"
   ]
  },
  {
   "cell_type": "code",
   "execution_count": 104,
   "id": "1127b6ef-215c-434d-9b81-8403892cef5a",
   "metadata": {},
   "outputs": [
    {
     "data": {
      "text/plain": [
       "array([ 2.        ,  7.33333333, 12.66666667, 18.        , 23.33333333,\n",
       "       28.66666667, 34.        , 39.33333333, 44.66666667, 50.        ])"
      ]
     },
     "execution_count": 104,
     "metadata": {},
     "output_type": "execute_result"
    }
   ],
   "source": [
    "lspace"
   ]
  },
  {
   "cell_type": "code",
   "execution_count": 105,
   "id": "e375b6c0-2688-40f0-9035-2d4202f5303b",
   "metadata": {},
   "outputs": [],
   "source": [
    "#it give array of 10 elements form 1 to 50 for equal spacing"
   ]
  },
  {
   "cell_type": "code",
   "execution_count": 106,
   "id": "4f46d5f1-9d79-4991-8d10-df8b1dc51dd0",
   "metadata": {},
   "outputs": [],
   "source": [
    "#now we will create a random array using empty"
   ]
  },
  {
   "cell_type": "code",
   "execution_count": 109,
   "id": "09181d91-46c1-4fc1-bedd-b339ff6f7188",
   "metadata": {},
   "outputs": [],
   "source": [
    "emp=np.empty((4,6))"
   ]
  },
  {
   "cell_type": "code",
   "execution_count": 110,
   "id": "107fe4a6-aa40-4134-9ff0-98ea52a7e47d",
   "metadata": {},
   "outputs": [
    {
     "data": {
      "text/plain": [
       "array([[6.23042070e-307, 4.67296746e-307, 1.69121096e-306,\n",
       "        1.86922637e-306, 6.23055991e-307, 2.22526399e-307],\n",
       "       [6.23053614e-307, 7.56592338e-307, 1.60216183e-306,\n",
       "        7.56602523e-307, 3.56043054e-307, 1.37961641e-306],\n",
       "       [2.22518251e-306, 1.33511969e-306, 6.23037317e-307,\n",
       "        6.23053954e-307, 9.34609790e-307, 8.45593934e-307],\n",
       "       [9.34600963e-307, 1.86921143e-306, 6.23061763e-307,\n",
       "        8.45590539e-307, 8.34445562e-308, 8.34402698e-308]])"
      ]
     },
     "execution_count": 110,
     "metadata": {},
     "output_type": "execute_result"
    }
   ],
   "source": [
    "emp"
   ]
  },
  {
   "cell_type": "code",
   "execution_count": 111,
   "id": "7e78667c-3736-4123-b1d0-567c9114b789",
   "metadata": {},
   "outputs": [],
   "source": [
    "emp_like=np.empty_like(lspace)"
   ]
  },
  {
   "cell_type": "code",
   "execution_count": 112,
   "id": "2327137c-3c53-4cff-b5d4-ae1fe6278973",
   "metadata": {},
   "outputs": [
    {
     "data": {
      "text/plain": [
       "array([ 2.        ,  7.33333333, 12.66666667, 18.        , 23.33333333,\n",
       "       28.66666667, 34.        , 39.33333333, 44.66666667, 50.        ])"
      ]
     },
     "execution_count": 112,
     "metadata": {},
     "output_type": "execute_result"
    }
   ],
   "source": [
    "emp_like"
   ]
  },
  {
   "cell_type": "code",
   "execution_count": 113,
   "id": "7a45e795-9946-41fc-b79b-0c47a427275a",
   "metadata": {},
   "outputs": [],
   "source": [
    "#here is uses lspace and create an empty array of same size as lspace"
   ]
  },
  {
   "cell_type": "code",
   "execution_count": 114,
   "id": "db67a32d-9581-46b2-b673-d86d5c9ce2c2",
   "metadata": {},
   "outputs": [],
   "source": [
    "ide=np.identity(12)"
   ]
  },
  {
   "cell_type": "code",
   "execution_count": 115,
   "id": "93c072cc-0532-43a7-aac0-fd385371e3de",
   "metadata": {},
   "outputs": [
    {
     "data": {
      "text/plain": [
       "array([[1., 0., 0., 0., 0., 0., 0., 0., 0., 0., 0., 0.],\n",
       "       [0., 1., 0., 0., 0., 0., 0., 0., 0., 0., 0., 0.],\n",
       "       [0., 0., 1., 0., 0., 0., 0., 0., 0., 0., 0., 0.],\n",
       "       [0., 0., 0., 1., 0., 0., 0., 0., 0., 0., 0., 0.],\n",
       "       [0., 0., 0., 0., 1., 0., 0., 0., 0., 0., 0., 0.],\n",
       "       [0., 0., 0., 0., 0., 1., 0., 0., 0., 0., 0., 0.],\n",
       "       [0., 0., 0., 0., 0., 0., 1., 0., 0., 0., 0., 0.],\n",
       "       [0., 0., 0., 0., 0., 0., 0., 1., 0., 0., 0., 0.],\n",
       "       [0., 0., 0., 0., 0., 0., 0., 0., 1., 0., 0., 0.],\n",
       "       [0., 0., 0., 0., 0., 0., 0., 0., 0., 1., 0., 0.],\n",
       "       [0., 0., 0., 0., 0., 0., 0., 0., 0., 0., 1., 0.],\n",
       "       [0., 0., 0., 0., 0., 0., 0., 0., 0., 0., 0., 1.]])"
      ]
     },
     "execution_count": 115,
     "metadata": {},
     "output_type": "execute_result"
    }
   ],
   "source": [
    "ide"
   ]
  },
  {
   "cell_type": "code",
   "execution_count": 116,
   "id": "e4c7cd75-a4c9-4a18-b7db-d220b9254338",
   "metadata": {},
   "outputs": [],
   "source": [
    "#it gives identity matrix of size 12"
   ]
  },
  {
   "cell_type": "code",
   "execution_count": 117,
   "id": "c0a4d796-9b10-43b4-83d2-a67161ebde4c",
   "metadata": {},
   "outputs": [],
   "source": [
    "arr=np.arange(99)"
   ]
  },
  {
   "cell_type": "code",
   "execution_count": 118,
   "id": "fbdc1dd0-267c-4b39-90b8-53b8c7b9874d",
   "metadata": {},
   "outputs": [
    {
     "data": {
      "text/plain": [
       "array([ 0,  1,  2,  3,  4,  5,  6,  7,  8,  9, 10, 11, 12, 13, 14, 15, 16,\n",
       "       17, 18, 19, 20, 21, 22, 23, 24, 25, 26, 27, 28, 29, 30, 31, 32, 33,\n",
       "       34, 35, 36, 37, 38, 39, 40, 41, 42, 43, 44, 45, 46, 47, 48, 49, 50,\n",
       "       51, 52, 53, 54, 55, 56, 57, 58, 59, 60, 61, 62, 63, 64, 65, 66, 67,\n",
       "       68, 69, 70, 71, 72, 73, 74, 75, 76, 77, 78, 79, 80, 81, 82, 83, 84,\n",
       "       85, 86, 87, 88, 89, 90, 91, 92, 93, 94, 95, 96, 97, 98])"
      ]
     },
     "execution_count": 118,
     "metadata": {},
     "output_type": "execute_result"
    }
   ],
   "source": [
    "arr"
   ]
  },
  {
   "cell_type": "code",
   "execution_count": 119,
   "id": "48f1e6d8-c951-4f2b-85c7-6f9054d5da89",
   "metadata": {},
   "outputs": [
    {
     "data": {
      "text/plain": [
       "array([[ 0,  1,  2,  3,  4,  5,  6,  7,  8,  9, 10, 11, 12, 13, 14, 15,\n",
       "        16, 17, 18, 19, 20, 21, 22, 23, 24, 25, 26, 27, 28, 29, 30, 31,\n",
       "        32],\n",
       "       [33, 34, 35, 36, 37, 38, 39, 40, 41, 42, 43, 44, 45, 46, 47, 48,\n",
       "        49, 50, 51, 52, 53, 54, 55, 56, 57, 58, 59, 60, 61, 62, 63, 64,\n",
       "        65],\n",
       "       [66, 67, 68, 69, 70, 71, 72, 73, 74, 75, 76, 77, 78, 79, 80, 81,\n",
       "        82, 83, 84, 85, 86, 87, 88, 89, 90, 91, 92, 93, 94, 95, 96, 97,\n",
       "        98]])"
      ]
     },
     "execution_count": 119,
     "metadata": {},
     "output_type": "execute_result"
    }
   ],
   "source": [
    "arr.reshape(3,33)"
   ]
  },
  {
   "cell_type": "code",
   "execution_count": 120,
   "id": "ac476d2b-08b3-40e9-a3b0-0f4785b719c1",
   "metadata": {},
   "outputs": [
    {
     "data": {
      "text/plain": [
       "array([ 0,  1,  2,  3,  4,  5,  6,  7,  8,  9, 10, 11, 12, 13, 14, 15, 16,\n",
       "       17, 18, 19, 20, 21, 22, 23, 24, 25, 26, 27, 28, 29, 30, 31, 32, 33,\n",
       "       34, 35, 36, 37, 38, 39, 40, 41, 42, 43, 44, 45, 46, 47, 48, 49, 50,\n",
       "       51, 52, 53, 54, 55, 56, 57, 58, 59, 60, 61, 62, 63, 64, 65, 66, 67,\n",
       "       68, 69, 70, 71, 72, 73, 74, 75, 76, 77, 78, 79, 80, 81, 82, 83, 84,\n",
       "       85, 86, 87, 88, 89, 90, 91, 92, 93, 94, 95, 96, 97, 98])"
      ]
     },
     "execution_count": 120,
     "metadata": {},
     "output_type": "execute_result"
    }
   ],
   "source": [
    "arr"
   ]
  },
  {
   "cell_type": "code",
   "execution_count": 121,
   "id": "0c216fca-9ed0-49cb-b53a-63133330dd83",
   "metadata": {},
   "outputs": [],
   "source": [
    "arr=arr.reshape(3,33)"
   ]
  },
  {
   "cell_type": "code",
   "execution_count": 122,
   "id": "c08a7ff4-4e9e-41ed-bd44-89279f7cc5f3",
   "metadata": {},
   "outputs": [
    {
     "data": {
      "text/plain": [
       "array([[ 0,  1,  2,  3,  4,  5,  6,  7,  8,  9, 10, 11, 12, 13, 14, 15,\n",
       "        16, 17, 18, 19, 20, 21, 22, 23, 24, 25, 26, 27, 28, 29, 30, 31,\n",
       "        32],\n",
       "       [33, 34, 35, 36, 37, 38, 39, 40, 41, 42, 43, 44, 45, 46, 47, 48,\n",
       "        49, 50, 51, 52, 53, 54, 55, 56, 57, 58, 59, 60, 61, 62, 63, 64,\n",
       "        65],\n",
       "       [66, 67, 68, 69, 70, 71, 72, 73, 74, 75, 76, 77, 78, 79, 80, 81,\n",
       "        82, 83, 84, 85, 86, 87, 88, 89, 90, 91, 92, 93, 94, 95, 96, 97,\n",
       "        98]])"
      ]
     },
     "execution_count": 122,
     "metadata": {},
     "output_type": "execute_result"
    }
   ],
   "source": [
    "arr"
   ]
  },
  {
   "cell_type": "code",
   "execution_count": 123,
   "id": "5e64a301-5f4b-461e-b038-5203c1744ddb",
   "metadata": {},
   "outputs": [],
   "source": [
    "arr=arr.ravel()"
   ]
  },
  {
   "cell_type": "code",
   "execution_count": 124,
   "id": "4cc53368-2455-4107-879e-1c352e465759",
   "metadata": {},
   "outputs": [
    {
     "data": {
      "text/plain": [
       "array([ 0,  1,  2,  3,  4,  5,  6,  7,  8,  9, 10, 11, 12, 13, 14, 15, 16,\n",
       "       17, 18, 19, 20, 21, 22, 23, 24, 25, 26, 27, 28, 29, 30, 31, 32, 33,\n",
       "       34, 35, 36, 37, 38, 39, 40, 41, 42, 43, 44, 45, 46, 47, 48, 49, 50,\n",
       "       51, 52, 53, 54, 55, 56, 57, 58, 59, 60, 61, 62, 63, 64, 65, 66, 67,\n",
       "       68, 69, 70, 71, 72, 73, 74, 75, 76, 77, 78, 79, 80, 81, 82, 83, 84,\n",
       "       85, 86, 87, 88, 89, 90, 91, 92, 93, 94, 95, 96, 97, 98])"
      ]
     },
     "execution_count": 124,
     "metadata": {},
     "output_type": "execute_result"
    }
   ],
   "source": [
    "arr"
   ]
  },
  {
   "cell_type": "code",
   "execution_count": 125,
   "id": "ed6507fd-adca-432e-966f-1f768e63d56f",
   "metadata": {},
   "outputs": [
    {
     "data": {
      "text/plain": [
       "(99,)"
      ]
     },
     "execution_count": 125,
     "metadata": {},
     "output_type": "execute_result"
    }
   ],
   "source": [
    "arr.shape"
   ]
  },
  {
   "cell_type": "code",
   "execution_count": 126,
   "id": "8919c183-1868-49e8-9354-63d9dcc2ac4f",
   "metadata": {},
   "outputs": [],
   "source": [
    "#for 1D we have 1 axis name as axis0\n",
    "#for 2D we have 2 axis, axis0 and axix1......and so on"
   ]
  },
  {
   "cell_type": "code",
   "execution_count": 127,
   "id": "f2cfdc2c-2d4d-49ee-8651-bed5dac3811a",
   "metadata": {},
   "outputs": [],
   "source": [
    "#33.34 mins in the vido"
   ]
  },
  {
   "cell_type": "code",
   "execution_count": 128,
   "id": "751637ed-bf94-4f79-9ae3-5b0fd1a3b33c",
   "metadata": {},
   "outputs": [],
   "source": [
    "x=([[1,2,3],[4,5,6],[7,1,0]])"
   ]
  },
  {
   "cell_type": "code",
   "execution_count": 129,
   "id": "f5ec7111-c816-4e26-8425-fb9e1978d165",
   "metadata": {},
   "outputs": [],
   "source": [
    "ar=np.array(x)"
   ]
  },
  {
   "cell_type": "code",
   "execution_count": 130,
   "id": "499590e6-c8c6-43da-b332-20a5c35db367",
   "metadata": {},
   "outputs": [
    {
     "data": {
      "text/plain": [
       "array([[1, 2, 3],\n",
       "       [4, 5, 6],\n",
       "       [7, 1, 0]])"
      ]
     },
     "execution_count": 130,
     "metadata": {},
     "output_type": "execute_result"
    }
   ],
   "source": [
    "ar"
   ]
  },
  {
   "cell_type": "code",
   "execution_count": 131,
   "id": "d4af40c7-ecad-4341-ba77-c97e6133d7e7",
   "metadata": {},
   "outputs": [
    {
     "data": {
      "text/plain": [
       "array([12,  8,  9])"
      ]
     },
     "execution_count": 131,
     "metadata": {},
     "output_type": "execute_result"
    }
   ],
   "source": [
    "ar.sum(axis=0)"
   ]
  },
  {
   "cell_type": "code",
   "execution_count": 132,
   "id": "5fd4865a-ad18-46eb-84cb-7896b4b4ad29",
   "metadata": {},
   "outputs": [],
   "source": [
    "#axis 0 is having arrow towards downward"
   ]
  },
  {
   "cell_type": "code",
   "execution_count": 133,
   "id": "e9bee4c2-4630-406e-8d90-316ffa9f38fe",
   "metadata": {},
   "outputs": [],
   "source": [
    "#axis 1 is having arrow towards right"
   ]
  },
  {
   "cell_type": "code",
   "execution_count": 134,
   "id": "20e44d75-b7cf-4fe2-bff7-342d628bebb3",
   "metadata": {},
   "outputs": [
    {
     "data": {
      "text/plain": [
       "array([ 6, 15,  8])"
      ]
     },
     "execution_count": 134,
     "metadata": {},
     "output_type": "execute_result"
    }
   ],
   "source": [
    "ar.sum(axis=1)"
   ]
  },
  {
   "cell_type": "code",
   "execution_count": 135,
   "id": "ef1febfd-b131-47cc-8f66-7e2ebcdac280",
   "metadata": {},
   "outputs": [
    {
     "data": {
      "text/plain": [
       "array([[1, 4, 7],\n",
       "       [2, 5, 1],\n",
       "       [3, 6, 0]])"
      ]
     },
     "execution_count": 135,
     "metadata": {},
     "output_type": "execute_result"
    }
   ],
   "source": [
    "ar.T\n",
    "#for transpose"
   ]
  },
  {
   "cell_type": "code",
   "execution_count": 136,
   "id": "c4282f0c-2fac-44c0-b816-b616c54e3289",
   "metadata": {},
   "outputs": [
    {
     "data": {
      "text/plain": [
       "<numpy.flatiter at 0x2c050aae020>"
      ]
     },
     "execution_count": 136,
     "metadata": {},
     "output_type": "execute_result"
    }
   ],
   "source": [
    "ar.flat"
   ]
  },
  {
   "cell_type": "code",
   "execution_count": 137,
   "id": "d871544c-28e9-4c6b-abc7-c3349ad695a7",
   "metadata": {},
   "outputs": [
    {
     "name": "stdout",
     "output_type": "stream",
     "text": [
      "1\n",
      "2\n",
      "3\n",
      "4\n",
      "5\n",
      "6\n",
      "7\n",
      "1\n",
      "0\n"
     ]
    }
   ],
   "source": [
    "for item in ar.flat:\n",
    "    print(item)"
   ]
  },
  {
   "cell_type": "code",
   "execution_count": 138,
   "id": "8044744a-34a4-4a1b-8c9c-ebc551f2fbc0",
   "metadata": {},
   "outputs": [],
   "source": [
    "#how to use for loop in python???"
   ]
  },
  {
   "cell_type": "code",
   "execution_count": 139,
   "id": "e7596f15-99ee-412b-8f4c-32e5573c688c",
   "metadata": {},
   "outputs": [
    {
     "data": {
      "text/plain": [
       "2"
      ]
     },
     "execution_count": 139,
     "metadata": {},
     "output_type": "execute_result"
    }
   ],
   "source": [
    "ar.ndim\n",
    "#dimentiom"
   ]
  },
  {
   "cell_type": "code",
   "execution_count": 140,
   "id": "7f1238e2-7232-4574-a8c8-055419b2d95d",
   "metadata": {},
   "outputs": [
    {
     "data": {
      "text/plain": [
       "36"
      ]
     },
     "execution_count": 140,
     "metadata": {},
     "output_type": "execute_result"
    }
   ],
   "source": [
    "ar.nbytes"
   ]
  },
  {
   "cell_type": "code",
   "execution_count": 141,
   "id": "2501e575-b046-419f-a198-c54509eb8ee4",
   "metadata": {},
   "outputs": [],
   "source": [
    "#ar.xyz is attribute and ar.xyz() is a function"
   ]
  },
  {
   "cell_type": "code",
   "execution_count": 142,
   "id": "597c01be-a680-4c28-b3d2-30aa418f1ac1",
   "metadata": {},
   "outputs": [],
   "source": [
    "one=np.array([1,3,4,643,2])"
   ]
  },
  {
   "cell_type": "code",
   "execution_count": 143,
   "id": "de11e448-4a5d-4a2c-aac4-c57f0a37fe0f",
   "metadata": {},
   "outputs": [
    {
     "data": {
      "text/plain": [
       "3"
      ]
     },
     "execution_count": 143,
     "metadata": {},
     "output_type": "execute_result"
    }
   ],
   "source": [
    "one.argmax()"
   ]
  },
  {
   "cell_type": "code",
   "execution_count": 144,
   "id": "0afc32dc-5f04-456f-8b4f-ab1fc109e0a0",
   "metadata": {},
   "outputs": [],
   "source": [
    "#argmax() it give the index of max element "
   ]
  },
  {
   "cell_type": "code",
   "execution_count": 145,
   "id": "31bdb4a3-d213-452e-adaa-e585da2182e3",
   "metadata": {},
   "outputs": [
    {
     "data": {
      "text/plain": [
       "0"
      ]
     },
     "execution_count": 145,
     "metadata": {},
     "output_type": "execute_result"
    }
   ],
   "source": [
    "one.argmin()"
   ]
  },
  {
   "cell_type": "code",
   "execution_count": 146,
   "id": "df458999-010d-4cf9-86aa-0bbf2775025c",
   "metadata": {},
   "outputs": [
    {
     "data": {
      "text/plain": [
       "array([0, 4, 1, 2, 3], dtype=int64)"
      ]
     },
     "execution_count": 146,
     "metadata": {},
     "output_type": "execute_result"
    }
   ],
   "source": [
    "one.argsort()"
   ]
  },
  {
   "cell_type": "code",
   "execution_count": 147,
   "id": "e17f4e3d-8fe2-4cd0-ac3a-ef9e6f0dd5e7",
   "metadata": {},
   "outputs": [],
   "source": [
    "#it give what should be index for the sorted array"
   ]
  },
  {
   "cell_type": "code",
   "execution_count": 148,
   "id": "ae36a59d-5184-4096-b8bc-7366be52d12b",
   "metadata": {},
   "outputs": [
    {
     "data": {
      "text/plain": [
       "array([[1, 2, 3],\n",
       "       [4, 5, 6],\n",
       "       [7, 1, 0]])"
      ]
     },
     "execution_count": 148,
     "metadata": {},
     "output_type": "execute_result"
    }
   ],
   "source": [
    "ar"
   ]
  },
  {
   "cell_type": "code",
   "execution_count": 149,
   "id": "8b9b039a-6150-4a53-81eb-4d92ec431eaf",
   "metadata": {},
   "outputs": [
    {
     "data": {
      "text/plain": [
       "6"
      ]
     },
     "execution_count": 149,
     "metadata": {},
     "output_type": "execute_result"
    }
   ],
   "source": [
    "ar.argmax()"
   ]
  },
  {
   "cell_type": "code",
   "execution_count": 150,
   "id": "7e785c2c-ae05-4797-a748-397fe2176b5f",
   "metadata": {},
   "outputs": [
    {
     "data": {
      "text/plain": [
       "8"
      ]
     },
     "execution_count": 150,
     "metadata": {},
     "output_type": "execute_result"
    }
   ],
   "source": [
    "ar.argmin()"
   ]
  },
  {
   "cell_type": "code",
   "execution_count": 151,
   "id": "6705c02c-5508-49da-b953-d75e12522ab1",
   "metadata": {},
   "outputs": [],
   "source": [
    "#it straight the 2D array for giving index"
   ]
  },
  {
   "cell_type": "code",
   "execution_count": 152,
   "id": "40314ce9-0e69-45ac-bbd4-db7dfc182bbb",
   "metadata": {},
   "outputs": [
    {
     "data": {
      "text/plain": [
       "array([2, 1, 1], dtype=int64)"
      ]
     },
     "execution_count": 152,
     "metadata": {},
     "output_type": "execute_result"
    }
   ],
   "source": [
    "ar.argmax(axis=0)"
   ]
  },
  {
   "cell_type": "code",
   "execution_count": 153,
   "id": "ea46e505-fb20-4fe5-b877-9a8d4113aa83",
   "metadata": {},
   "outputs": [
    {
     "data": {
      "text/plain": [
       "array([2, 2, 0], dtype=int64)"
      ]
     },
     "execution_count": 153,
     "metadata": {},
     "output_type": "execute_result"
    }
   ],
   "source": [
    "ar.argmax(axis=1)"
   ]
  },
  {
   "cell_type": "code",
   "execution_count": 154,
   "id": "9664356d-b55a-4315-8218-c5f70c2ae22a",
   "metadata": {},
   "outputs": [
    {
     "data": {
      "text/plain": [
       "array([[0, 2, 2],\n",
       "       [1, 0, 0],\n",
       "       [2, 1, 1]], dtype=int64)"
      ]
     },
     "execution_count": 154,
     "metadata": {},
     "output_type": "execute_result"
    }
   ],
   "source": [
    "ar.argsort(axis=0)"
   ]
  },
  {
   "cell_type": "code",
   "execution_count": 155,
   "id": "5f740486-9e6c-452a-9c6c-cbf01ee73c69",
   "metadata": {},
   "outputs": [
    {
     "data": {
      "text/plain": [
       "array([[0, 1, 2],\n",
       "       [0, 1, 2],\n",
       "       [2, 1, 0]], dtype=int64)"
      ]
     },
     "execution_count": 155,
     "metadata": {},
     "output_type": "execute_result"
    }
   ],
   "source": [
    "ar.argsort(axis=1)"
   ]
  },
  {
   "cell_type": "code",
   "execution_count": 157,
   "id": "928e363e-e5d7-4bf1-a9e2-2881c06df5d1",
   "metadata": {},
   "outputs": [
    {
     "data": {
      "text/plain": [
       "array([1, 2, 3, 4, 5, 6, 7, 1, 0])"
      ]
     },
     "execution_count": 157,
     "metadata": {},
     "output_type": "execute_result"
    }
   ],
   "source": [
    "ar.ravel()"
   ]
  },
  {
   "cell_type": "code",
   "execution_count": 158,
   "id": "687a9779-a268-4b3c-afaf-0b17768fa12e",
   "metadata": {},
   "outputs": [
    {
     "data": {
      "text/plain": [
       "array([[1],\n",
       "       [2],\n",
       "       [3],\n",
       "       [4],\n",
       "       [5],\n",
       "       [6],\n",
       "       [7],\n",
       "       [1],\n",
       "       [0]])"
      ]
     },
     "execution_count": 158,
     "metadata": {},
     "output_type": "execute_result"
    }
   ],
   "source": [
    "ar.reshape((9,1))"
   ]
  },
  {
   "cell_type": "code",
   "execution_count": 159,
   "id": "072504bf-63f8-422c-ba17-4397b280fd94",
   "metadata": {},
   "outputs": [
    {
     "data": {
      "text/plain": [
       "array([[1, 2, 3],\n",
       "       [4, 5, 6],\n",
       "       [7, 1, 0]])"
      ]
     },
     "execution_count": 159,
     "metadata": {},
     "output_type": "execute_result"
    }
   ],
   "source": [
    "ar"
   ]
  },
  {
   "cell_type": "code",
   "execution_count": 160,
   "id": "3d459e7b-85fc-4263-b52b-109849744d25",
   "metadata": {},
   "outputs": [],
   "source": [
    "ar2=np.array([[1, 2, 1],\n",
    "       [4, 0, 6],\n",
    "       [8, 1, 0]])"
   ]
  },
  {
   "cell_type": "code",
   "execution_count": 161,
   "id": "00f10cce-9f6f-4a4e-9059-5f2d07048e82",
   "metadata": {},
   "outputs": [
    {
     "data": {
      "text/plain": [
       "array([[ 2,  4,  4],\n",
       "       [ 8,  5, 12],\n",
       "       [15,  2,  0]])"
      ]
     },
     "execution_count": 161,
     "metadata": {},
     "output_type": "execute_result"
    }
   ],
   "source": [
    "ar+ar2"
   ]
  },
  {
   "cell_type": "code",
   "execution_count": 162,
   "id": "495d0a94-92f5-44cd-894d-f9433a107702",
   "metadata": {},
   "outputs": [],
   "source": [
    "#with we are able to do matix operations"
   ]
  },
  {
   "cell_type": "code",
   "execution_count": 163,
   "id": "86d65dea-9561-40a9-8b13-5860e79c4c3e",
   "metadata": {},
   "outputs": [
    {
     "data": {
      "text/plain": [
       "array([[ 1,  4,  3],\n",
       "       [16,  0, 36],\n",
       "       [56,  1,  0]])"
      ]
     },
     "execution_count": 163,
     "metadata": {},
     "output_type": "execute_result"
    }
   ],
   "source": [
    "ar*ar2"
   ]
  },
  {
   "cell_type": "code",
   "execution_count": 164,
   "id": "c3bdf8c7-9611-485a-8c1a-f9f9841588e4",
   "metadata": {},
   "outputs": [
    {
     "data": {
      "text/plain": [
       "[2, 3, 4, 5]"
      ]
     },
     "execution_count": 164,
     "metadata": {},
     "output_type": "execute_result"
    }
   ],
   "source": [
    "[2,3]+[4,5]"
   ]
  },
  {
   "cell_type": "code",
   "execution_count": 165,
   "id": "04122975-988c-47da-8906-f08bd84163f1",
   "metadata": {},
   "outputs": [],
   "source": [
    "#see we can't do same  "
   ]
  },
  {
   "cell_type": "code",
   "execution_count": 166,
   "id": "2eb93b70-64fa-416c-a906-e69c13b53c4b",
   "metadata": {},
   "outputs": [
    {
     "data": {
      "text/plain": [
       "array([[1.        , 1.41421356, 1.73205081],\n",
       "       [2.        , 2.23606798, 2.44948974],\n",
       "       [2.64575131, 1.        , 0.        ]])"
      ]
     },
     "execution_count": 166,
     "metadata": {},
     "output_type": "execute_result"
    }
   ],
   "source": [
    "np.sqrt(ar)"
   ]
  },
  {
   "cell_type": "code",
   "execution_count": 167,
   "id": "5642faf5-40f2-4aef-9647-a97ce0ef8bb1",
   "metadata": {},
   "outputs": [
    {
     "data": {
      "text/plain": [
       "29"
      ]
     },
     "execution_count": 167,
     "metadata": {},
     "output_type": "execute_result"
    }
   ],
   "source": [
    "ar.sum()"
   ]
  },
  {
   "cell_type": "code",
   "execution_count": 168,
   "id": "49bf93b2-a3bb-48f9-a1b8-14dcf6f55776",
   "metadata": {},
   "outputs": [
    {
     "data": {
      "text/plain": [
       "7"
      ]
     },
     "execution_count": 168,
     "metadata": {},
     "output_type": "execute_result"
    }
   ],
   "source": [
    "ar.max()"
   ]
  },
  {
   "cell_type": "code",
   "execution_count": 169,
   "id": "a43541ea-3667-43b8-af5c-ae306f032863",
   "metadata": {},
   "outputs": [
    {
     "data": {
      "text/plain": [
       "0"
      ]
     },
     "execution_count": 169,
     "metadata": {},
     "output_type": "execute_result"
    }
   ],
   "source": [
    "ar.min()"
   ]
  },
  {
   "cell_type": "code",
   "execution_count": 170,
   "id": "86e058e8-91be-4c69-bdf6-a49c9b713474",
   "metadata": {},
   "outputs": [
    {
     "data": {
      "text/plain": [
       "array([[1, 2, 3],\n",
       "       [4, 5, 6],\n",
       "       [7, 1, 0]])"
      ]
     },
     "execution_count": 170,
     "metadata": {},
     "output_type": "execute_result"
    }
   ],
   "source": [
    "ar"
   ]
  },
  {
   "cell_type": "code",
   "execution_count": 171,
   "id": "5970a9ca-a3ac-4122-8436-a9da3023760f",
   "metadata": {},
   "outputs": [
    {
     "data": {
      "text/plain": [
       "(array([1, 2], dtype=int64), array([2, 0], dtype=int64))"
      ]
     },
     "execution_count": 171,
     "metadata": {},
     "output_type": "execute_result"
    }
   ],
   "source": [
    "np.where(ar>5)"
   ]
  },
  {
   "cell_type": "code",
   "execution_count": 172,
   "id": "d02e8d9e-5e17-49c0-a8c7-63b647ec366c",
   "metadata": {},
   "outputs": [
    {
     "data": {
      "text/plain": [
       "tuple"
      ]
     },
     "execution_count": 172,
     "metadata": {},
     "output_type": "execute_result"
    }
   ],
   "source": [
    "type(np.where(ar>5))"
   ]
  },
  {
   "cell_type": "code",
   "execution_count": 173,
   "id": "5df3992d-fd23-459b-be42-9b43ed89de1f",
   "metadata": {},
   "outputs": [
    {
     "data": {
      "text/plain": [
       "8"
      ]
     },
     "execution_count": 173,
     "metadata": {},
     "output_type": "execute_result"
    }
   ],
   "source": [
    "np.count_nonzero(ar)"
   ]
  },
  {
   "cell_type": "code",
   "execution_count": 174,
   "id": "dd82e924-ea9d-42eb-82c9-9ca435ff15ee",
   "metadata": {},
   "outputs": [
    {
     "data": {
      "text/plain": [
       "(array([0, 0, 0, 1, 1, 1, 2, 2], dtype=int64),\n",
       " array([0, 1, 2, 0, 1, 2, 0, 1], dtype=int64))"
      ]
     },
     "execution_count": 174,
     "metadata": {},
     "output_type": "execute_result"
    }
   ],
   "source": [
    "np.nonzero(ar)"
   ]
  },
  {
   "cell_type": "code",
   "execution_count": 175,
   "id": "6b705dd9-736b-4fb6-bcbd-f95660c5ff14",
   "metadata": {},
   "outputs": [],
   "source": [
    "#it has all the values except 2,2"
   ]
  },
  {
   "cell_type": "code",
   "execution_count": 176,
   "id": "7deb029a-19b9-4b7b-ac43-abcb7f10fe54",
   "metadata": {},
   "outputs": [],
   "source": [
    "ar[1,2]=0"
   ]
  },
  {
   "cell_type": "code",
   "execution_count": 177,
   "id": "b6034e16-bdea-4c9e-a202-378c5087dc40",
   "metadata": {},
   "outputs": [
    {
     "data": {
      "text/plain": [
       "(array([0, 0, 0, 1, 1, 2, 2], dtype=int64),\n",
       " array([0, 1, 2, 0, 1, 0, 1], dtype=int64))"
      ]
     },
     "execution_count": 177,
     "metadata": {},
     "output_type": "execute_result"
    }
   ],
   "source": [
    "np.nonzero(ar)"
   ]
  },
  {
   "cell_type": "code",
   "execution_count": 178,
   "id": "9f3951c1-34b3-4aef-a565-e9cc64f14234",
   "metadata": {},
   "outputs": [],
   "source": [
    "import sys"
   ]
  },
  {
   "cell_type": "code",
   "execution_count": 180,
   "id": "e5a1920c-d28e-4d35-83c7-d85462232204",
   "metadata": {},
   "outputs": [],
   "source": [
    "py_ar=[0,4,55,2]\n",
    "#python array"
   ]
  },
  {
   "cell_type": "code",
   "execution_count": 182,
   "id": "56bbac65-b15d-4ef9-a549-bb5d25dec07f",
   "metadata": {},
   "outputs": [],
   "source": [
    "np_ar=np.array(py_ar)\n",
    "#numpy array"
   ]
  },
  {
   "cell_type": "code",
   "execution_count": 183,
   "id": "091061fe-a878-41a6-8cd5-c069769ca857",
   "metadata": {},
   "outputs": [
    {
     "data": {
      "text/plain": [
       "112"
      ]
     },
     "execution_count": 183,
     "metadata": {},
     "output_type": "execute_result"
    }
   ],
   "source": [
    "sys.getsizeof(1)*len(py_ar)"
   ]
  },
  {
   "cell_type": "code",
   "execution_count": 185,
   "id": "c2ee1703-e811-4dbe-89c7-535ed780eccf",
   "metadata": {},
   "outputs": [
    {
     "data": {
      "text/plain": [
       "16"
      ]
     },
     "execution_count": 185,
     "metadata": {},
     "output_type": "execute_result"
    }
   ],
   "source": [
    "np_ar.itemsize*np_ar.size"
   ]
  },
  {
   "cell_type": "code",
   "execution_count": 186,
   "id": "d1df4b7f-447d-4f5b-8860-f1fe74d2f56e",
   "metadata": {},
   "outputs": [],
   "source": [
    "#see what a size difference!!!!!"
   ]
  },
  {
   "cell_type": "code",
   "execution_count": null,
   "id": "88b8de51-d45d-4812-aae6-abcc2ca2c71a",
   "metadata": {},
   "outputs": [],
   "source": []
  },
  {
   "cell_type": "code",
   "execution_count": null,
   "id": "0126132d-8c81-47f3-8db7-fe5f2020ecc4",
   "metadata": {},
   "outputs": [],
   "source": []
  }
 ],
 "metadata": {
  "kernelspec": {
   "display_name": "Python 3 (ipykernel)",
   "language": "python",
   "name": "python3"
  },
  "language_info": {
   "codemirror_mode": {
    "name": "ipython",
    "version": 3
   },
   "file_extension": ".py",
   "mimetype": "text/x-python",
   "name": "python",
   "nbconvert_exporter": "python",
   "pygments_lexer": "ipython3",
   "version": "3.11.4"
  }
 },
 "nbformat": 4,
 "nbformat_minor": 5
}
